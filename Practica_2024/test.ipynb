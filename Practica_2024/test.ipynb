{
 "cells": [
  {
   "cell_type": "code",
   "execution_count": 1,
   "metadata": {},
   "outputs": [],
   "source": [
    "#!/usr/bin/env python\n",
    "# coding: utf-8\n",
    "import os\n",
    "import pandas as pd\n",
    "import xlwings as xw\n",
    "#import pyodbc\n",
    "import seaborn as sbrn\n",
    "import sys\n",
    "sys.path.append(r'C:\\Funciones')\n",
    "import subprocess\n",
    "# Aquí pondremos la funciones SQL MS PostgreSQL y demás conexiones \n",
    "from SQL_conexions import sql_conexion\n",
    "from datetime import datetime"
   ]
  },
  {
   "cell_type": "code",
   "execution_count": 7,
   "metadata": {},
   "outputs": [
    {
     "data": {
      "text/html": [
       "<div>\n",
       "<style scoped>\n",
       "    .dataframe tbody tr th:only-of-type {\n",
       "        vertical-align: middle;\n",
       "    }\n",
       "\n",
       "    .dataframe tbody tr th {\n",
       "        vertical-align: top;\n",
       "    }\n",
       "\n",
       "    .dataframe thead th {\n",
       "        text-align: right;\n",
       "    }\n",
       "</style>\n",
       "<table border=\"1\" class=\"dataframe\">\n",
       "  <thead>\n",
       "    <tr style=\"text-align: right;\">\n",
       "      <th></th>\n",
       "      <th>Periodos</th>\n",
       "      <th>PIB (2018=100)</th>\n",
       "      <th>Consumo Privado (2018=100)</th>\n",
       "      <th>Consumo de Gobierno (2018=100)</th>\n",
       "      <th>Formación Bruta de Capital Fijo (2018=100)</th>\n",
       "      <th>Exportaciones (2018=100)</th>\n",
       "      <th>Importaciones (2018=100)</th>\n",
       "      <th>Variación de Existencias (2018=100)</th>\n",
       "      <th>Discrepancia estadística (2018=100)</th>\n",
       "    </tr>\n",
       "  </thead>\n",
       "  <tbody>\n",
       "    <tr>\n",
       "      <th>0</th>\n",
       "      <td>1993-01-01 00:00:00</td>\n",
       "      <td>13759047</td>\n",
       "      <td>9639086</td>\n",
       "      <td>1139073</td>\n",
       "      <td>2726444</td>\n",
       "      <td>1612358</td>\n",
       "      <td>1944696</td>\n",
       "      <td>497390</td>\n",
       "      <td>89392</td>\n",
       "    </tr>\n",
       "    <tr>\n",
       "      <th>1</th>\n",
       "      <td>1993-02-01 00:00:00</td>\n",
       "      <td>13889138</td>\n",
       "      <td>9854072</td>\n",
       "      <td>1142570</td>\n",
       "      <td>2516515</td>\n",
       "      <td>1617715</td>\n",
       "      <td>2019197</td>\n",
       "      <td>458585</td>\n",
       "      <td>318878</td>\n",
       "    </tr>\n",
       "    <tr>\n",
       "      <th>2</th>\n",
       "      <td>1993-03-01 00:00:00</td>\n",
       "      <td>13862878</td>\n",
       "      <td>9830614</td>\n",
       "      <td>1195961</td>\n",
       "      <td>2719836</td>\n",
       "      <td>1529828</td>\n",
       "      <td>2001274</td>\n",
       "      <td>252760</td>\n",
       "      <td>335152</td>\n",
       "    </tr>\n",
       "    <tr>\n",
       "      <th>3</th>\n",
       "      <td>1993-04-01 00:00:00</td>\n",
       "      <td>14077368</td>\n",
       "      <td>10177877</td>\n",
       "      <td>1287378</td>\n",
       "      <td>3176915</td>\n",
       "      <td>1686152</td>\n",
       "      <td>2129348</td>\n",
       "      <td>227115</td>\n",
       "      <td>-348721</td>\n",
       "    </tr>\n",
       "    <tr>\n",
       "      <th>4</th>\n",
       "      <td>1994-01-01 00:00:00</td>\n",
       "      <td>14100080</td>\n",
       "      <td>9779526</td>\n",
       "      <td>1278129</td>\n",
       "      <td>3070359</td>\n",
       "      <td>1716620</td>\n",
       "      <td>2145610</td>\n",
       "      <td>444988</td>\n",
       "      <td>-43932</td>\n",
       "    </tr>\n",
       "  </tbody>\n",
       "</table>\n",
       "</div>"
      ],
      "text/plain": [
       "              Periodos  PIB (2018=100)  Consumo Privado (2018=100)  \\\n",
       "0  1993-01-01 00:00:00        13759047                     9639086   \n",
       "1  1993-02-01 00:00:00        13889138                     9854072   \n",
       "2  1993-03-01 00:00:00        13862878                     9830614   \n",
       "3  1993-04-01 00:00:00        14077368                    10177877   \n",
       "4  1994-01-01 00:00:00        14100080                     9779526   \n",
       "\n",
       "   Consumo de Gobierno (2018=100)  Formación Bruta de Capital Fijo (2018=100)  \\\n",
       "0                         1139073                                     2726444   \n",
       "1                         1142570                                     2516515   \n",
       "2                         1195961                                     2719836   \n",
       "3                         1287378                                     3176915   \n",
       "4                         1278129                                     3070359   \n",
       "\n",
       "   Exportaciones (2018=100)  Importaciones (2018=100)  \\\n",
       "0                   1612358                   1944696   \n",
       "1                   1617715                   2019197   \n",
       "2                   1529828                   2001274   \n",
       "3                   1686152                   2129348   \n",
       "4                   1716620                   2145610   \n",
       "\n",
       "   Variación de Existencias (2018=100)  Discrepancia estadística (2018=100)  \n",
       "0                               497390                                89392  \n",
       "1                               458585                               318878  \n",
       "2                               252760                               335152  \n",
       "3                               227115                              -348721  \n",
       "4                               444988                               -43932  "
      ]
     },
     "execution_count": 7,
     "metadata": {},
     "output_type": "execute_result"
    }
   ],
   "source": [
    "# Leer base \n",
    "DF_0 = pd.read_excel('base_PIB.xlsx')\n",
    "DF_0.head()\n",
    "\n"
   ]
  },
  {
   "cell_type": "code",
   "execution_count": 8,
   "metadata": {},
   "outputs": [
    {
     "ename": "SyntaxError",
     "evalue": "invalid syntax (2642276387.py, line 1)",
     "output_type": "error",
     "traceback": [
      "\u001b[1;36m  Cell \u001b[1;32mIn[8], line 1\u001b[1;36m\u001b[0m\n\u001b[1;33m    git remote -v\u001b[0m\n\u001b[1;37m        ^\u001b[0m\n\u001b[1;31mSyntaxError\u001b[0m\u001b[1;31m:\u001b[0m invalid syntax\n"
     ]
    }
   ],
   "source": [
    "DF"
   ]
  },
  {
   "cell_type": "code",
   "execution_count": null,
   "metadata": {},
   "outputs": [],
   "source": []
  }
 ],
 "metadata": {
  "kernelspec": {
   "display_name": "base",
   "language": "python",
   "name": "python3"
  },
  "language_info": {
   "codemirror_mode": {
    "name": "ipython",
    "version": 3
   },
   "file_extension": ".py",
   "mimetype": "text/x-python",
   "name": "python",
   "nbconvert_exporter": "python",
   "pygments_lexer": "ipython3",
   "version": "3.11.7"
  }
 },
 "nbformat": 4,
 "nbformat_minor": 2
}
